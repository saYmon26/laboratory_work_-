{
 "cells": [
  {
   "cell_type": "markdown",
   "id": "628ac75a",
   "metadata": {},
   "source": [
    "# Лабораторная работа 1. Работа с разными типами данных Python"
   ]
  },
  {
   "cell_type": "markdown",
   "id": "42821907",
   "metadata": {},
   "source": [
    "## Чуйкин Алексей Михайлович БАП2402"
   ]
  },
  {
   "cell_type": "markdown",
   "id": "7d5a0df0",
   "metadata": {},
   "source": [
    "### Задание 1 Создание списка, получение первого и последнего элемента"
   ]
  },
  {
   "cell_type": "code",
   "execution_count": 35,
   "id": "8950d1f3",
   "metadata": {},
   "outputs": [
    {
     "name": "stdout",
     "output_type": "stream",
     "text": [
      "one five\n"
     ]
    }
   ],
   "source": [
    "list_1 = [\"one\", \"two\", \"three\", \"four\", \"five\"]\n",
    "print (list_1[0], list_1[-1])"
   ]
  },
  {
   "cell_type": "markdown",
   "id": "e9f2656d",
   "metadata": {},
   "source": [
    "### Задание 2. Добавление, удаление и изменения элементов списка"
   ]
  },
  {
   "cell_type": "code",
   "execution_count": 36,
   "id": "c251c8c7",
   "metadata": {},
   "outputs": [
    {
     "name": "stdout",
     "output_type": "stream",
     "text": [
      "['one', 'two', 'three', 'four', 'five', 'six']\n",
      "['one', 'two', 'three', 'four', 'five', 'six', 's', 'e', 'v', 'e', 'n']\n"
     ]
    }
   ],
   "source": [
    "list_1 = [\"one\", \"two\", \"three\", \"four\", \"five\"]\n",
    "list_1.append(\"six\")\n",
    "print(list_1)\n",
    "list_1.extend(\"seven\")\n",
    "print(list_1)"
   ]
  },
  {
   "cell_type": "code",
   "execution_count": 37,
   "id": "bb85094d",
   "metadata": {},
   "outputs": [
    {
     "name": "stdout",
     "output_type": "stream",
     "text": [
      "['one', 'two', 'three', 'four', 'five', 'eight', 'nine', 'ten']\n"
     ]
    }
   ],
   "source": [
    "list_1 = [\"one\", \"two\", \"three\", \"four\", \"five\"]\n",
    "list_2 = [\"eight\", \"nine\", \"ten\"]\n",
    "print (list_1 + list_2)"
   ]
  },
  {
   "cell_type": "code",
   "execution_count": 38,
   "id": "27e27a3b",
   "metadata": {},
   "outputs": [
    {
     "name": "stdout",
     "output_type": "stream",
     "text": [
      "['one', 'two', 'three', 'four', 'five', 'eight', 'nine', 'ten'] two nine\n"
     ]
    }
   ],
   "source": [
    "list_1 = [\"one\", \"two\", \"three\", \"four\", \"five\"]\n",
    "list_2 = [\"eight\", \"nine\", \"ten\"]\n",
    "list_3 = list_1 + list_2\n",
    "print (list_3, list_3[1], list_3[-2])"
   ]
  },
  {
   "cell_type": "code",
   "execution_count": 39,
   "id": "1b570b2d",
   "metadata": {},
   "outputs": [
    {
     "name": "stdout",
     "output_type": "stream",
     "text": [
      "['one', 'two', 'three', 'four', 'five', 'eight', 'nine', 'ten']  -- before .pop() operation\n",
      "['two', 'three', 'four', 'five', 'eight', 'nine']  -- after .pop() operation\n"
     ]
    }
   ],
   "source": [
    "list_1 = [\"one\", \"two\", \"three\", \"four\", \"five\"]\n",
    "list_2 = [\"eight\", \"nine\", \"ten\"]\n",
    "list_3 = list_1 + list_2\n",
    "print(list_3, \" -- before .pop() operation\")\n",
    "list_3.pop(0)\n",
    "list_3.pop(-1)\n",
    "print(list_3, \" -- after .pop() operation\")\n"
   ]
  },
  {
   "cell_type": "markdown",
   "id": "5d4a4106",
   "metadata": {},
   "source": [
    "### Задание 3. Изменения порядка и сортировка элементов списка"
   ]
  },
  {
   "cell_type": "code",
   "execution_count": 40,
   "id": "d446cc21",
   "metadata": {},
   "outputs": [
    {
     "name": "stdout",
     "output_type": "stream",
     "text": [
      "[68, 105, 160, 164, 115, 75, 198, 113, 118, 34]\n"
     ]
    }
   ],
   "source": [
    "import random\n",
    "list_random = [random.randint(1,199) for i in range(10)]\n",
    "print(list_random)\n"
   ]
  },
  {
   "cell_type": "code",
   "execution_count": 41,
   "id": "ef66672e",
   "metadata": {},
   "outputs": [
    {
     "name": "stdout",
     "output_type": "stream",
     "text": [
      "[60, 18, 10, 104, 27, 189, 194, 87, 82, 187]  -- before sort\n",
      "[10, 18, 27, 60, 82, 87, 104, 187, 189, 194]  -- after sort\n"
     ]
    }
   ],
   "source": [
    "import random\n",
    "list_random = [random.randint(1,199) for i in range(10)]\n",
    "print(list_random, \" -- before sort\")\n",
    "list_random.sort(key=None, reverse=False)\n",
    "print(list_random, \" -- after sort\")\n"
   ]
  },
  {
   "cell_type": "code",
   "execution_count": 42,
   "id": "edafd36b",
   "metadata": {},
   "outputs": [
    {
     "name": "stdout",
     "output_type": "stream",
     "text": [
      "[64, 194, 72, 183, 16, 144, 151, 117, 99, 60]  -- before sort\n",
      "[16, 60, 64, 72, 99, 117, 144, 151, 183, 194]  -- after sort\n",
      "[194, 60, 64, 72, 99, 117, 144, 151, 183, 16]  -- after change\n"
     ]
    }
   ],
   "source": [
    "import random\n",
    "def first_change(list_random):\n",
    "   list_random = [random.randint(1,199) for i in range(10)]\n",
    "   print(list_random, \" -- before sort\")\n",
    "   list_random.sort(key=None, reverse=False)\n",
    "   print(list_random, \" -- after sort\")\n",
    "   new_start = list_random.pop() \n",
    "   new_end = list_random.pop(0) \n",
    "   list_random.append(new_end) \n",
    "   list_random.insert(0, new_start)\n",
    "   return list_random\n",
    "print(first_change(list_random), \" -- after change\")"
   ]
  },
  {
   "cell_type": "code",
   "execution_count": 43,
   "id": "09393d26",
   "metadata": {},
   "outputs": [
    {
     "name": "stdout",
     "output_type": "stream",
     "text": [
      "[187, 121, 77, 159, 79, 134, 112, 163, 199, 71]\n",
      "[71, 199, 163, 112, 134, 79, 159, 77, 121, 187]\n"
     ]
    }
   ],
   "source": [
    "import random\n",
    "list_random = [random.randint(1,199) for i in range(10)]\n",
    "print(list_random)\n",
    "list_random.reverse()\n",
    "print(list_random)"
   ]
  },
  {
   "cell_type": "code",
   "execution_count": 44,
   "id": "bc5304f7",
   "metadata": {},
   "outputs": [
    {
     "name": "stdout",
     "output_type": "stream",
     "text": [
      "[129, 111, 47, 168, 17, 42, 61, 45, 147, 25]\n",
      "[129, 111, 47, 168, 17] [42, 61, 45, 147, 25]\n"
     ]
    }
   ],
   "source": [
    "import random\n",
    "def split_list(list_random):\n",
    "    half = len(list_random)//2\n",
    "    return list_random[:half], list_random[half:]\n",
    "list_random = [random.randint(1,199) for i in range(10)]\n",
    "print(list_random)\n",
    "list_a, list_b = split_list(list_random)\n",
    "print(list_a, list_b)"
   ]
  },
  {
   "cell_type": "markdown",
   "id": "74f11a98",
   "metadata": {},
   "source": [
    "### Задание 4. Вычисление длины списка и числа повторяющихся элементов"
   ]
  },
  {
   "cell_type": "code",
   "execution_count": 45,
   "id": "0bca1487",
   "metadata": {},
   "outputs": [
    {
     "name": "stdout",
     "output_type": "stream",
     "text": [
      "8 2\n"
     ]
    }
   ],
   "source": [
    "list_user = input()\n",
    "list_user_01 = list_user.split()\n",
    "counter = 0\n",
    "for i in range(0, len(list_user_01)):\n",
    "    if list_user_01[i] in list_user_01[:i]:\n",
    "        counter += 1\n",
    "print(len(list_user_01), counter)\n"
   ]
  },
  {
   "cell_type": "markdown",
   "id": "86fcd82d",
   "metadata": {},
   "source": [
    "### Задание 5. Преобразование списков в множество и сортировка"
   ]
  },
  {
   "cell_type": "code",
   "execution_count": 46,
   "id": "4155fea0",
   "metadata": {},
   "outputs": [
    {
     "name": "stdout",
     "output_type": "stream",
     "text": [
      "{1, 2, 3, 4, 5, 230, 6, 8, 11}\n"
     ]
    }
   ],
   "source": [
    "list_4 = [1, 2, 3, 3, 3, 4, 8, 230, 5, 5, 5, 5, 6, 8, 11]\n",
    "plenty = set(list_4)\n",
    "print(plenty)"
   ]
  },
  {
   "cell_type": "code",
   "execution_count": 47,
   "id": "698fdaf4",
   "metadata": {},
   "outputs": [
    {
     "name": "stdout",
     "output_type": "stream",
     "text": [
      "[1, 2, 3, 4, 5, 6, 8, 11, 230]\n"
     ]
    }
   ],
   "source": [
    "print(sorted(plenty))"
   ]
  },
  {
   "cell_type": "code",
   "execution_count": 48,
   "id": "30f543fe",
   "metadata": {},
   "outputs": [
    {
     "name": "stdout",
     "output_type": "stream",
     "text": [
      "9\n"
     ]
    }
   ],
   "source": [
    "len_set = len(plenty)\n",
    "print(len_set)"
   ]
  },
  {
   "cell_type": "markdown",
   "id": "3e01cec2",
   "metadata": {},
   "source": [
    "### Задание 6. Операции с множествами"
   ]
  },
  {
   "cell_type": "code",
   "execution_count": 49,
   "id": "f15fb053",
   "metadata": {},
   "outputs": [
    {
     "name": "stdout",
     "output_type": "stream",
     "text": [
      "[143, 134, 36, 142, 167, 105, 110, 63, 57, 50]\n",
      "[86, 76, 92, 63, 20, 9, 67, 18, 155, 162]\n",
      "[195, 189, 158, 4, 33, 50, 8, 118, 97, 143]\n"
     ]
    }
   ],
   "source": [
    "import random\n",
    "list_random_6_1 = [random.randint(1,199) for i in range(10)]\n",
    "list_random_6_2 = [random.randint(1,199) for i in range(10)]\n",
    "list_random_6_3 = [random.randint(1,199) for i in range(10)]\n",
    "print(list_random_6_1)\n",
    "print(list_random_6_2)\n",
    "print(list_random_6_3)\n"
   ]
  },
  {
   "cell_type": "code",
   "execution_count": 50,
   "id": "15afb6e7",
   "metadata": {},
   "outputs": [
    {
     "name": "stdout",
     "output_type": "stream",
     "text": [
      "{36, 134, 167, 105, 142, 143, 110, 50, 57, 63} \n",
      " {162, 67, 9, 76, 18, 20, 86, 155, 92, 63} \n",
      " {33, 97, 195, 4, 8, 143, 50, 118, 189, 158}\n",
      "1007 \n",
      " 748 \n",
      " 995\n"
     ]
    }
   ],
   "source": [
    "plenty_6_1 = set(list_random_6_1)\n",
    "plenty_6_2 = set(list_random_6_2)\n",
    "plenty_6_3 = set(list_random_6_3)\n",
    "print(plenty_6_1, '\\n', plenty_6_2, '\\n', plenty_6_3)\n",
    "sum_6_1 = sum(plenty_6_1)\n",
    "sum_6_2 = sum(plenty_6_2)\n",
    "sum_6_3 = sum(plenty_6_3)\n",
    "print(sum_6_1, '\\n', sum_6_2, '\\n', sum_6_3)"
   ]
  },
  {
   "cell_type": "code",
   "execution_count": 51,
   "id": "a2ae524f",
   "metadata": {},
   "outputs": [
    {
     "name": "stdout",
     "output_type": "stream",
     "text": [
      "set()\n"
     ]
    }
   ],
   "source": [
    "conjunctio = plenty_6_1 & plenty_6_2 & plenty_6_3\n",
    "print(conjunctio)"
   ]
  },
  {
   "cell_type": "markdown",
   "id": "a0fd918f",
   "metadata": {},
   "source": [
    "### Задание 7. Работа со словарями Python"
   ]
  },
  {
   "cell_type": "code",
   "execution_count": 52,
   "id": "9492409a",
   "metadata": {},
   "outputs": [],
   "source": [
    "dict_1 = {'a': '2', 'b': '1', 'c': '4'}"
   ]
  },
  {
   "cell_type": "code",
   "execution_count": 53,
   "id": "e8cf325d",
   "metadata": {},
   "outputs": [
    {
     "name": "stdout",
     "output_type": "stream",
     "text": [
      "Значение ключа 'b': 1\n"
     ]
    }
   ],
   "source": [
    "print(\"Значение ключа 'b':\", dict_1['b'])"
   ]
  },
  {
   "cell_type": "code",
   "execution_count": 54,
   "id": "ee6d2b8b",
   "metadata": {},
   "outputs": [
    {
     "name": "stdout",
     "output_type": "stream",
     "text": [
      "Список ключей: ['a', 'b', 'c']\n",
      "Список значений: ['2', '1', '4']\n"
     ]
    }
   ],
   "source": [
    "keys = list(dict_1.keys())\n",
    "values = list(dict_1.values())\n",
    "\n",
    "print(\"Список ключей:\", keys)\n",
    "print(\"Список значений:\", values)"
   ]
  },
  {
   "cell_type": "code",
   "execution_count": 55,
   "id": "525a1423",
   "metadata": {},
   "outputs": [
    {
     "name": "stdout",
     "output_type": "stream",
     "text": [
      "Объединенный словарь: {'a': '2', 'b': '1', 'c': '4', 'd': '5', 'e': '6', 'f': '7'}\n"
     ]
    }
   ],
   "source": [
    "dict_2 = {'d': '5', 'e': '6', 'f': '7'}\n",
    "dict_1.update(dict_2)\n",
    "\n",
    "print(\"Объединенный словарь:\", dict_1)"
   ]
  },
  {
   "cell_type": "markdown",
   "id": "b2701e24",
   "metadata": {},
   "source": [
    "### Задание 8. Обработка строкового формата"
   ]
  },
  {
   "cell_type": "code",
   "execution_count": 56,
   "id": "ae1bb012",
   "metadata": {},
   "outputs": [
    {
     "name": "stdout",
     "output_type": "stream",
     "text": [
      "Строка без пробелов: 654.fgbb.345vcde.345665f.456.gfdcf\n"
     ]
    }
   ],
   "source": [
    "input_string = input(\"Введите строку с числами, буквами и специальными символами, разделенными '.': \")\n",
    "\n",
    "cleaned_string = input_string.replace(\" \", \"\")\n",
    "print(f\"Строка без пробелов: {cleaned_string}\")"
   ]
  },
  {
   "cell_type": "code",
   "execution_count": 57,
   "id": "bdf4c15b",
   "metadata": {},
   "outputs": [
    {
     "name": "stdout",
     "output_type": "stream",
     "text": [
      "\n",
      "Числа из строки: ['654', '456']\n",
      "Буквы из строки: ['fgbb', 'gfdcf']\n"
     ]
    }
   ],
   "source": [
    "\n",
    "parts = cleaned_string.split('.')\n",
    "numbers = []\n",
    "letters = []\n",
    "for part in parts:\n",
    "    if part.isdigit():  \n",
    "        numbers.append(part)\n",
    "    elif part.isalpha():\n",
    "        letters.append(part)\n",
    "\n",
    "print(\"\\nЧисла из строки:\", numbers)\n",
    "print(\"Буквы из строки:\", letters)"
   ]
  }
 ],
 "metadata": {
  "kernelspec": {
   "display_name": "Python 3",
   "language": "python",
   "name": "python3"
  },
  "language_info": {
   "codemirror_mode": {
    "name": "ipython",
    "version": 3
   },
   "file_extension": ".py",
   "mimetype": "text/x-python",
   "name": "python",
   "nbconvert_exporter": "python",
   "pygments_lexer": "ipython3",
   "version": "3.11.1"
  }
 },
 "nbformat": 4,
 "nbformat_minor": 5
}
