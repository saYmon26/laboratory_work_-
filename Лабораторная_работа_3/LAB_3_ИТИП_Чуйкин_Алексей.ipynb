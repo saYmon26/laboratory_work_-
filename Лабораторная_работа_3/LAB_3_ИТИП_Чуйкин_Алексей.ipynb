{
 "cells": [
  {
   "cell_type": "markdown",
   "id": "ee04460b",
   "metadata": {},
   "source": [
    "# Лабораторная работа 3. Функции и регулярные выражения"
   ]
  },
  {
   "cell_type": "markdown",
   "id": "3ea990d0",
   "metadata": {},
   "source": [
    "## Чуйкин Алексей Михайлович БАП2402"
   ]
  },
  {
   "cell_type": "markdown",
   "id": "bd676fd7",
   "metadata": {},
   "source": [
    "### Задание 1"
   ]
  },
  {
   "cell_type": "code",
   "execution_count": 50,
   "id": "b8da33fd",
   "metadata": {},
   "outputs": [
    {
     "name": "stdout",
     "output_type": "stream",
     "text": [
      "Позиционированые:\n",
      "75 - km/h, 1.5 - h, 110 - km\n",
      "Ключевые:\n",
      "60 - km/h, 0.5 - h, 30 - km\n",
      "Смешанные:\n",
      "150 - km/h, 0.21 - h, 1.5 - km\n"
     ]
    }
   ],
   "source": [
    "def def_lab3(speed, time, distance):\n",
    "   return f\"{speed} - km/h, {time} - h, {distance} - km\"\n",
    "print(\"Позиционированые:\")\n",
    "print(def_lab3(75, 1.5, 110))\n",
    "print(\"Ключевые:\")\n",
    "print(def_lab3(speed=60, distance= 30, time=0.5))\n",
    "print(\"Смешанные:\")\n",
    "print(def_lab3(150, distance= 1.5, time=0.21))\n"
   ]
  },
  {
   "cell_type": "markdown",
   "id": "979912aa",
   "metadata": {},
   "source": [
    "### Задание 2"
   ]
  },
  {
   "cell_type": "code",
   "execution_count": 51,
   "id": "716d91ce",
   "metadata": {},
   "outputs": [
    {
     "name": "stdout",
     "output_type": "stream",
     "text": [
      "Информация о человеке:\n",
      "Имя: Мария\n",
      "Возраст: 25\n",
      "Город: Казань\n",
      "Профессия: Дизайнер\n"
     ]
    }
   ],
   "source": [
    "def print_person_info(**kwargs):\n",
    "    required_fields = ['имя', 'возраст', 'город', 'профессия']\n",
    "    print(\"Информация о человеке:\")\n",
    "    for field in required_fields:\n",
    "        if field in kwargs:\n",
    "            print(f\"{field.capitalize()}: {kwargs[field]}\")\n",
    "        else:\n",
    "            print(f\"{field.capitalize()}: Не указано\")\n",
    "person_data = {\n",
    "    'имя': 'Мария',\n",
    "    'возраст': 25,\n",
    "    'город': 'Казань',\n",
    "    'профессия': 'Дизайнер',\n",
    "    'хобби': 'Танцы'\n",
    "}\n",
    "print_person_info(**person_data)"
   ]
  },
  {
   "cell_type": "markdown",
   "id": "97ec9366",
   "metadata": {},
   "source": [
    "### Задание 4"
   ]
  },
  {
   "cell_type": "code",
   "execution_count": 52,
   "id": "b026f3f1",
   "metadata": {},
   "outputs": [
    {
     "name": "stdout",
     "output_type": "stream",
     "text": [
      "Числа, делимые на 13: [39, 130, 169]\n"
     ]
    }
   ],
   "source": [
    "nums = [45, 36, 39, 37, 130, 105, 220, 169]\n",
    "result = list(filter(lambda x: x % 13 == 0, nums))\n",
    "\n",
    "print(\"Числа, делимые на 13:\", result)"
   ]
  },
  {
   "cell_type": "markdown",
   "id": "aa066929",
   "metadata": {},
   "source": [
    "### Задание 5"
   ]
  },
  {
   "cell_type": "code",
   "execution_count": 53,
   "id": "f1daf662",
   "metadata": {},
   "outputs": [
    {
     "name": "stdout",
     "output_type": "stream",
     "text": [
      "['Windows 10 Pro', 'Windows 10 Home', 'Ubuntu 20.04', 'Windows 10 Home', 'Windows 10 Pro', 'Windows 10 Home', 'Windows 10 Home', 'Windows Server 2019', 'Chrome OS', 'Windows 10 Home']\n",
      "['Intel', 'Intel', 'AMD', 'AMD', 'Intel', 'Intel', 'AMD', 'Intel', 'Intel', 'AMD']\n"
     ]
    }
   ],
   "source": [
    "import re\n",
    "\n",
    "with open('computer.txt', 'r') as file:\n",
    "    content = file.read()\n",
    "\n",
    "os_pattern = r'Операционная система:\\s*(.+)'\n",
    "processor_pattern = r'Процессор:\\s*(Intel|AMD)\\s+.+'\n",
    "\n",
    "os_matches = re.findall(os_pattern, content)\n",
    "processor_manufacturers = re.findall(processor_pattern, content)\n",
    "\n",
    "print(os_matches)\n",
    "print(processor_manufacturers)"
   ]
  },
  {
   "cell_type": "code",
   "execution_count": 54,
   "id": "3bb14413",
   "metadata": {},
   "outputs": [
    {
     "name": "stdout",
     "output_type": "stream",
     "text": [
      "['NVIDIA GeForce RTX 3080', 'Integrated Intel UHD 630', 'NVIDIA Quadro RTX 4000', 'Integrated Radeon Graphics', 'Integrated Intel Iris Xe', 'Integrated Intel UHD 620', 'Integrated Radeon Graphics', 'NVIDIA Tesla T4', 'Integrated Intel HD Graphics 610', 'NVIDIA GeForce RTX 3060']\n"
     ]
    }
   ],
   "source": [
    "import re\n",
    "\n",
    "with open('computer.txt', 'r') as file:\n",
    "    content = file.read()\n",
    "\n",
    "\n",
    "vd_pattern = r'Видеокарта:\\s*(?P<card>.+)'\n",
    "\n",
    "videocards = re.findall(vd_pattern, content)\n",
    "\n",
    "\n",
    "print(videocards)\n",
    "\n"
   ]
  },
  {
   "cell_type": "code",
   "execution_count": 55,
   "id": "b7e22d2b",
   "metadata": {},
   "outputs": [
    {
     "name": "stdout",
     "output_type": "stream",
     "text": [
      "Компьютер: Gaming PC\n",
      "  Процессор: Intel Core i9-11900K\n",
      "  Оперативная память: 32 ГБ DDR4\n",
      "Компьютер: Office PC\n",
      "  Процессор: Intel Core i5-10400\n",
      "  Оперативная память: 16 ГБ DDR4\n",
      "Компьютер: Ultrabook\n",
      "  Процессор: Intel Core i7-1165G7\n",
      "  Оперативная память: 16 ГБ LPDDR4x\n",
      "Компьютер: Mini PC\n",
      "  Процессор: Intel Core i3-10110U\n",
      "  Оперативная память: 8 ГБ DDR4\n",
      "Компьютер: Server\n",
      "  Процессор: Intel Xeon Gold 5218\n",
      "  Оперативная память: 128 ГБ DDR4\n",
      "Компьютер: Chromebox\n",
      "  Процессор: Intel Celeron 3867U\n",
      "  Оперативная память: 4 ГБ LPDDR3\n"
     ]
    }
   ],
   "source": [
    "import re\n",
    "\n",
    "with open('computer.txt', 'r') as file:\n",
    "    content = file.read()\n",
    "\n",
    "pattern = r'''\n",
    "    Компьютер:\\s*(?P<name>.+?)\\n\n",
    "    Процессор:\\s*Intel\\s+(?P<cpu_model>.+?)\\n\n",
    "    Оперативная\\s+память:\\s*(?P<ram_size>\\d+)\\s*ГБ\\s*(?P<ram_type>DDR\\d+|LPDDR\\d+\\w*)\n",
    "'''\n",
    "\n",
    "matches = re.finditer(pattern, content, re.VERBOSE)\n",
    "\n",
    "\n",
    "for match in matches:\n",
    "    print(f\"Компьютер: {match.group('name')}\")\n",
    "    print(f\"  Процессор: Intel {match.group('cpu_model')}\")\n",
    "    print(f\"  Оперативная память: {match.group('ram_size')} ГБ {match.group('ram_type')}\")\n"
   ]
  },
  {
   "cell_type": "markdown",
   "id": "2df197e7",
   "metadata": {},
   "source": [
    "### Задание 6"
   ]
  },
  {
   "cell_type": "code",
   "execution_count": 56,
   "id": "41292597",
   "metadata": {},
   "outputs": [
    {
     "name": "stdout",
     "output_type": "stream",
     "text": [
      "Enter string to test: \n",
      "fvbdhsnSGC4838#\n"
     ]
    }
   ],
   "source": [
    "import re\n",
    "print(\"Enter string to test: \")\n",
    "password = input()\n",
    "if re.fullmatch(r'[A-Za-z0-9@#$%^&+=]{8,}', password):\n",
    "    print(password)\n",
    "else:\n",
    "    print(\"False password\")"
   ]
  },
  {
   "cell_type": "markdown",
   "id": "41adda9a",
   "metadata": {},
   "source": [
    "### Задание 7"
   ]
  },
  {
   "cell_type": "code",
   "execution_count": 57,
   "id": "810986f2",
   "metadata": {},
   "outputs": [
    {
     "name": "stdout",
     "output_type": "stream",
     "text": [
      "1. 35.6895° N, 139.6917° E\n",
      "2. 35.6890° N, 139.6910° E\n",
      "3. 35.6892° N, 139.6915° E\n"
     ]
    }
   ],
   "source": [
    "import re\n",
    "\n",
    "text = '''\"Клад закопан на 35.6895° N, 139.6917° E!\" - гласила карта. Дети перекопали 35.6890° N, 139.6910° E, но нашли только на 35.6892° N, 139.6915° E - старую монету'''\n",
    "\n",
    "pattern = r'(\\d+\\.\\d+)°\\s*([NS]),\\s*(\\d+\\.\\d+)°\\s*([EW])'\n",
    "\n",
    "matches = re.findall(pattern, text)\n",
    "\n",
    "\n",
    "for i, match in enumerate(matches, 1):\n",
    "    latitude, lat_dir, longitude, lon_dir = match\n",
    "    print(f\"{i}. {latitude}° {lat_dir}, {longitude}° {lon_dir}\")"
   ]
  }
 ],
 "metadata": {
  "kernelspec": {
   "display_name": "Python 3",
   "language": "python",
   "name": "python3"
  },
  "language_info": {
   "codemirror_mode": {
    "name": "ipython",
    "version": 3
   },
   "file_extension": ".py",
   "mimetype": "text/x-python",
   "name": "python",
   "nbconvert_exporter": "python",
   "pygments_lexer": "ipython3",
   "version": "3.11.1"
  }
 },
 "nbformat": 4,
 "nbformat_minor": 5
}
